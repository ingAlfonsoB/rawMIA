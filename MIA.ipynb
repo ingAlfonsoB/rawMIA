{
  "nbformat": 4,
  "nbformat_minor": 0,
  "metadata": {
    "colab": {
      "provenance": [],
      "authorship_tag": "ABX9TyOfXqbWS3xwqwfyuoCzX0FW",
      "include_colab_link": true
    },
    "kernelspec": {
      "name": "python3",
      "display_name": "Python 3"
    },
    "language_info": {
      "name": "python"
    }
  },
  "cells": [
    {
      "cell_type": "markdown",
      "metadata": {
        "id": "view-in-github",
        "colab_type": "text"
      },
      "source": [
        "<a href=\"https://colab.research.google.com/github/ingAlfonsoB/rawMIA/blob/main/MIA.ipynb\" target=\"_parent\"><img src=\"https://colab.research.google.com/assets/colab-badge.svg\" alt=\"Open In Colab\"/></a>"
      ]
    },
    {
      "cell_type": "markdown",
      "source": [
        "#anonymnous submitting to Journal of Experimental & Theoretical Artificial Intelligence\n",
        "\n",
        "\n",
        "\n"
      ],
      "metadata": {
        "id": "EfFofHihHLgz"
      }
    },
    {
      "cell_type": "markdown",
      "source": [
        "Instalación de PyCaret en Google Colab\n",
        "\n",
        "Para ampliar las capacidades del entorno en Google Colab mediante la instalación de la biblioteca PyCaret. Para ello, utiliza el administrador de paquetes pip. Dicha herramienta se encarga de gestionar e instalar paquetes adicionales en Python que no forman parte de la biblioteca estándar.\n",
        "\n",
        "pycaret es el paquete que el usuario ha decidido instalar. PyCaret es conocido por ser una herramienta de automatización del flujo de trabajo de machine learning en Python. Con ella, es posible realizar desde la preparación de datos hasta la implementación de modelos de una manera más coherente y eficiente."
      ],
      "metadata": {
        "id": "hboq0xv0HxWH"
      }
    },
    {
      "cell_type": "code",
      "source": [
        "!pip install pycaret"
      ],
      "metadata": {
        "id": "HuUcarbBD-6c"
      },
      "execution_count": null,
      "outputs": []
    },
    {
      "cell_type": "markdown",
      "source": [
        "Se esta importando una serie de bibliotecas y herramientas esenciales para el análisis de datos y el modelado de machine learning en Python:\n",
        "\n",
        "Pandas y Numpy:\n",
        "import pandas as pd: Pandas es una biblioteca para manipulación y análisis de datos.\n",
        "import numpy as np: Numpy es una biblioteca que proporciona soporte para trabajar con arrays y matrices, así como una colección de funciones matemáticas para trabajar con estas estructuras.\n",
        "Scikit-learn:\n",
        "\n",
        "Herramientas para dividir datos:\n",
        "\n",
        "from sklearn.model_selection import train_test_split: Función para dividir conjuntos de datos en entrenamiento y prueba.\n",
        "from sklearn.model_selection import cross_validate: Función para realizar validación cruzada.\n",
        "from sklearn.model_selection import GridSearchCV: Herramienta para búsqueda de hiperparámetros.\n",
        "Preprocesamiento y Transformaciones:\n",
        "\n",
        "from sklearn.pipeline import Pipeline: Herramienta para construir flujos de trabajo secuenciales.\n",
        "from sklearn.impute import SimpleImputer: Herramienta para imputar valores faltantes.\n",
        "from sklearn.preprocessing import OneHotEncoder, StandardScaler, RobustScaler, MinMaxScaler: Herramientas para codificación y escalado de datos.\n",
        "from sklearn.compose import ColumnTransformer: Herramienta para aplicar transformaciones a columnas específicas.\n",
        "Modelos de Machine Learning:\n",
        "\n",
        "from sklearn.tree import DecisionTreeClassifier: Modelo de árbol de decisión.\n",
        "from sklearn.linear_model import LogisticRegression: Modelo de regresión logística.\n",
        "from sklearn.svm import SVC: Modelo de Máquina de Vectores de Soporte.\n",
        "from sklearn.ensemble import RandomForestClassifier, GradientBoostingClassifier: Modelos basados en ensambles.\n",
        "Métricas y Evaluación:\n",
        "\n",
        "from sklearn.metrics import classification_report, confusion_matrix: Herramientas para evaluar el rendimiento de los modelos de clasificación.\n",
        "import sklearn.metrics as metrics: Importación general de métricas.\n",
        "from sklearn.metrics import make_scorer, accuracy_score, precision_score, f1_score: Métricas específicas para evaluación.\n",
        "Visualización:\n",
        "\n",
        "from matplotlib import pyplot as plt: Matplotlib es una biblioteca para crear visualizaciones estáticas, animadas e interactivas en Python.\n",
        "import seaborn as sns: Seaborn es una biblioteca de visualización de datos basada en Matplotlib.\n",
        "LightGBM:\n",
        "\n",
        "import lightgbm as lgb: LightGBM es un framework que utiliza algoritmos de boosting basados en árboles.\n",
        "PyCaret:\n",
        "\n",
        "from pycaret.classification import setup, compare_models: Funciones para configurar el entorno de PyCaret y comparar diferentes modelos de clasificación.\n",
        "import pycaret: Importación general de PyCaret.\n",
        "from pycaret.classification import *: Importación de todas las funciones de la subbiblioteca de clasificación de PyCaret.\n",
        "Configuraciones y Warnings:\n",
        "\n",
        "pd.set_option('display.max_columns', None): Configura Pandas para mostrar todas las columnas de un DataFrame.\n",
        "import warnings: Importa la biblioteca warnings, que podría ser usada para manejar o ignorar advertencias."
      ],
      "metadata": {
        "id": "Qac6X1FvIqtU"
      }
    },
    {
      "cell_type": "code",
      "execution_count": null,
      "metadata": {
        "id": "ElK8DwLZ_ESB"
      },
      "outputs": [],
      "source": [
        "import pandas as pd\n",
        "import numpy as np\n",
        "from sklearn.model_selection import train_test_split\n",
        "from matplotlib import pyplot as plt\n",
        "import pandas as pd\n",
        "from sklearn.pipeline import Pipeline\n",
        "from sklearn.impute import SimpleImputer\n",
        "from sklearn.preprocessing import OneHotEncoder\n",
        "from sklearn.compose import ColumnTransformer\n",
        "from sklearn.tree import DecisionTreeClassifier\n",
        "from sklearn.preprocessing import StandardScaler, RobustScaler, MinMaxScaler\n",
        "from sklearn.model_selection import cross_validate\n",
        "from sklearn.model_selection import GridSearchCV\n",
        "from sklearn.linear_model import LogisticRegression\n",
        "from sklearn.svm import SVC\n",
        "from sklearn.ensemble import RandomForestClassifier\n",
        "import seaborn as sns\n",
        "from sklearn.metrics import classification_report, confusion_matrix\n",
        "from sklearn.ensemble import GradientBoostingClassifier\n",
        "import sklearn.metrics as metrics\n",
        "import warnings\n",
        "from sklearn.model_selection import cross_validate\n",
        "from sklearn.metrics import make_scorer, accuracy_score, precision_score, f1_score\n",
        "import lightgbm as lgb\n",
        "from pandas import read_csv\n",
        "from pycaret.classification import setup\n",
        "from pycaret.classification import compare_models\n",
        "import pycaret\n",
        "from pycaret.classification import *\n",
        "pd.set_option('display.max_columns', None)"
      ]
    },
    {
      "cell_type": "markdown",
      "source": [
        "Se está llevando a cabo el proceso de carga y visualización inicial de un conjunto de datos:\n",
        "\n",
        "Carga de la URL del conjunto de datos:\n",
        "\n",
        "dataset = \"https://raw.githubusercontent.com/ingAlfonsoB/rawMIA/main/data4.csv\": Aquí, el usuario asigna a la variable dataset la URL que contiene el conjunto de datos que se quiere analizar. Esta URL apunta a un archivo CSV en un repositorio de GitHub.\n",
        "Lectura del conjunto de datos:\n",
        "\n",
        "dataset = pd.read_csv(dataset,sep =\"\\;\",encoding='latin-1'): En este paso, el usuario utiliza la función read_csv de la biblioteca Pandas para cargar el archivo CSV desde la URL previamente definida. Se especifica que el delimitador utilizado en el archivo CSV es \";\", y también se define el encoding como 'latin-1' para garantizar una correcta lectura de caracteres especiales que podrían estar presentes en el archivo.\n",
        "Visualización inicial:\n",
        "\n",
        "dataset.head(20): Con el método head(20), el usuario solicita visualizar las primeras 20 filas del conjunto de datos para tener una idea inicial de su estructura y contenidos."
      ],
      "metadata": {
        "id": "StzkoW2nIvs9"
      }
    },
    {
      "cell_type": "code",
      "source": [
        "#se carga el dataframe en una variable.\n",
        "dataset = \"https://raw.githubusercontent.com/ingAlfonsoB/rawMIA/main/data4.csv\"\n",
        "#Se carga el objeto dataframe en una variable.\n",
        "\n",
        "dataset = pd.read_csv(dataset,sep =\"\\;\",encoding='latin-1')\n",
        "#Se muetran los 5 primeros datos del dataframe con .head()\n",
        "dataset.head(20)"
      ],
      "metadata": {
        "colab": {
          "base_uri": "https://localhost:8080/",
          "height": 731
        },
        "id": "p-jXmkol_KJo",
        "outputId": "ed30c82c-9b13-4ec0-f27e-caaebf6b9d41"
      },
      "execution_count": null,
      "outputs": [
        {
          "output_type": "stream",
          "name": "stderr",
          "text": [
            "<ipython-input-2-1a5a4a4f14c1>:5: ParserWarning: Falling back to the 'python' engine because the 'c' engine does not support regex separators (separators > 1 char and different from '\\s+' are interpreted as regex); you can avoid this warning by specifying engine='python'.\n",
            "  dataset = pd.read_csv(dataset,sep =\"\\;\",encoding='latin-1')\n"
          ]
        },
        {
          "output_type": "execute_result",
          "data": {
            "text/plain": [
              "   DescripcionId ValorTransaccion  TieneAdjuntos SectorId  TipoEntidadID  \\\n",
              "0          58,00        136379.00            0.0     1,00            4.0   \n",
              "1           4,00     201000000.00            0.0     5,00            1.0   \n",
              "2          10,00             3.00            1.0     4,00            1.0   \n",
              "3          10,00             3.00            1.0     4,00            1.0   \n",
              "4          10,00             3.00            1.0     4,00            1.0   \n",
              "5          14,00         27900.00            1.0     1,00          400.0   \n",
              "6           4,00      20000000.00            0.0     6,00            8.0   \n",
              "7          11,00    1972336800.00            0.0    11,00           66.0   \n",
              "8           4,00      95000000.00            0.0     5,00            1.0   \n",
              "9          34,00     371228353.00            1.0     1,00            1.0   \n",
              "10         14,00    1146606502.00            1.0     1,00            1.0   \n",
              "11         57,00     124067000.00            0.0     5,00            1.0   \n",
              "12          4,00    2014552426.00            1.0     1,00            1.0   \n",
              "13         14,00    9141863950.00            1.0     1,00            1.0   \n",
              "14          4,00     575000000.00            1.0     5,00            1.0   \n",
              "15         14,00        281497.00            1.0     1,00            1.0   \n",
              "16         58,00        130703.00            0.0     1,00            4.0   \n",
              "17          4,00       5000000.00            0.0     1,00           13.0   \n",
              "18          4,00       5000000.00            0.0     1,00           13.0   \n",
              "19          4,00        744750.00            0.0     1,00           13.0   \n",
              "\n",
              "     EntidadId                                          Tipologia  \\\n",
              "0        115.0  Vinculados con el producto de delitos ejecutad...   \n",
              "1   68081002.0            Enriquecimiento ilícito de particulares   \n",
              "2          4.0  Financiación del terrorismo y administración d...   \n",
              "3          4.0  Financiación del terrorismo y administración d...   \n",
              "4          4.0  Financiación del terrorismo y administración d...   \n",
              "5          1.0  Delitos contra el sistema financiero - Captaci...   \n",
              "6        965.0            Enriquecimiento ilícito de particulares   \n",
              "7         12.0  Tráfico de drogas tóxicas, estupefacientes o s...   \n",
              "8   11001057.0            Enriquecimiento ilícito de particulares   \n",
              "9          7.0  Delitos contra la administración pública - Enr...   \n",
              "10         7.0  Delitos contra el sistema financiero - Captaci...   \n",
              "11  11001049.0  Delitos contra la administración pública - Omi...   \n",
              "12         7.0            Enriquecimiento ilícito de particulares   \n",
              "13         7.0  Delitos contra el sistema financiero - Captaci...   \n",
              "14  11001062.0            Enriquecimiento ilícito de particulares   \n",
              "15         7.0  Delitos contra el sistema financiero - Captaci...   \n",
              "16       115.0  Vinculados con el producto de delitos ejecutad...   \n",
              "17        22.0            Enriquecimiento ilícito de particulares   \n",
              "18        22.0            Enriquecimiento ilícito de particulares   \n",
              "19        17.0            Enriquecimiento ilícito de particulares   \n",
              "\n",
              "    NotificoAutoridad  CalificaAnalista MONEDA  \n",
              "0                 0.0              13.0  DÓLAR  \n",
              "1                 0.0              13.0   PESO  \n",
              "2                 0.0               0.0   PESO  \n",
              "3                 0.0               0.0   PESO  \n",
              "4                 0.0               0.0   PESO  \n",
              "5                 0.0              13.0  DÓLAR  \n",
              "6                 0.0               0.0   PESO  \n",
              "7                 0.0               0.0   PESO  \n",
              "8                 0.0               0.0   PESO  \n",
              "9                 0.0              13.0   PESO  \n",
              "10                0.0              13.0   PESO  \n",
              "11                0.0               0.0   PESO  \n",
              "12                0.0              15.0   PESO  \n",
              "13                0.0              15.0   PESO  \n",
              "14                0.0               0.0   PESO  \n",
              "15                0.0              13.0  DÓLAR  \n",
              "16                0.0              13.0  DÓLAR  \n",
              "17                0.0               0.0   PESO  \n",
              "18                0.0               0.0   PESO  \n",
              "19                0.0               0.0   PESO  "
            ],
            "text/html": [
              "\n",
              "  <div id=\"df-1c8e748d-a0a8-4e00-a32f-c7ffd589e7a7\" class=\"colab-df-container\">\n",
              "    <div>\n",
              "<style scoped>\n",
              "    .dataframe tbody tr th:only-of-type {\n",
              "        vertical-align: middle;\n",
              "    }\n",
              "\n",
              "    .dataframe tbody tr th {\n",
              "        vertical-align: top;\n",
              "    }\n",
              "\n",
              "    .dataframe thead th {\n",
              "        text-align: right;\n",
              "    }\n",
              "</style>\n",
              "<table border=\"1\" class=\"dataframe\">\n",
              "  <thead>\n",
              "    <tr style=\"text-align: right;\">\n",
              "      <th></th>\n",
              "      <th>DescripcionId</th>\n",
              "      <th>ValorTransaccion</th>\n",
              "      <th>TieneAdjuntos</th>\n",
              "      <th>SectorId</th>\n",
              "      <th>TipoEntidadID</th>\n",
              "      <th>EntidadId</th>\n",
              "      <th>Tipologia</th>\n",
              "      <th>NotificoAutoridad</th>\n",
              "      <th>CalificaAnalista</th>\n",
              "      <th>MONEDA</th>\n",
              "    </tr>\n",
              "  </thead>\n",
              "  <tbody>\n",
              "    <tr>\n",
              "      <th>0</th>\n",
              "      <td>58,00</td>\n",
              "      <td>136379.00</td>\n",
              "      <td>0.0</td>\n",
              "      <td>1,00</td>\n",
              "      <td>4.0</td>\n",
              "      <td>115.0</td>\n",
              "      <td>Vinculados con el producto de delitos ejecutad...</td>\n",
              "      <td>0.0</td>\n",
              "      <td>13.0</td>\n",
              "      <td>DÓLAR</td>\n",
              "    </tr>\n",
              "    <tr>\n",
              "      <th>1</th>\n",
              "      <td>4,00</td>\n",
              "      <td>201000000.00</td>\n",
              "      <td>0.0</td>\n",
              "      <td>5,00</td>\n",
              "      <td>1.0</td>\n",
              "      <td>68081002.0</td>\n",
              "      <td>Enriquecimiento ilícito de particulares</td>\n",
              "      <td>0.0</td>\n",
              "      <td>13.0</td>\n",
              "      <td>PESO</td>\n",
              "    </tr>\n",
              "    <tr>\n",
              "      <th>2</th>\n",
              "      <td>10,00</td>\n",
              "      <td>3.00</td>\n",
              "      <td>1.0</td>\n",
              "      <td>4,00</td>\n",
              "      <td>1.0</td>\n",
              "      <td>4.0</td>\n",
              "      <td>Financiación del terrorismo y administración d...</td>\n",
              "      <td>0.0</td>\n",
              "      <td>0.0</td>\n",
              "      <td>PESO</td>\n",
              "    </tr>\n",
              "    <tr>\n",
              "      <th>3</th>\n",
              "      <td>10,00</td>\n",
              "      <td>3.00</td>\n",
              "      <td>1.0</td>\n",
              "      <td>4,00</td>\n",
              "      <td>1.0</td>\n",
              "      <td>4.0</td>\n",
              "      <td>Financiación del terrorismo y administración d...</td>\n",
              "      <td>0.0</td>\n",
              "      <td>0.0</td>\n",
              "      <td>PESO</td>\n",
              "    </tr>\n",
              "    <tr>\n",
              "      <th>4</th>\n",
              "      <td>10,00</td>\n",
              "      <td>3.00</td>\n",
              "      <td>1.0</td>\n",
              "      <td>4,00</td>\n",
              "      <td>1.0</td>\n",
              "      <td>4.0</td>\n",
              "      <td>Financiación del terrorismo y administración d...</td>\n",
              "      <td>0.0</td>\n",
              "      <td>0.0</td>\n",
              "      <td>PESO</td>\n",
              "    </tr>\n",
              "    <tr>\n",
              "      <th>5</th>\n",
              "      <td>14,00</td>\n",
              "      <td>27900.00</td>\n",
              "      <td>1.0</td>\n",
              "      <td>1,00</td>\n",
              "      <td>400.0</td>\n",
              "      <td>1.0</td>\n",
              "      <td>Delitos contra el sistema financiero - Captaci...</td>\n",
              "      <td>0.0</td>\n",
              "      <td>13.0</td>\n",
              "      <td>DÓLAR</td>\n",
              "    </tr>\n",
              "    <tr>\n",
              "      <th>6</th>\n",
              "      <td>4,00</td>\n",
              "      <td>20000000.00</td>\n",
              "      <td>0.0</td>\n",
              "      <td>6,00</td>\n",
              "      <td>8.0</td>\n",
              "      <td>965.0</td>\n",
              "      <td>Enriquecimiento ilícito de particulares</td>\n",
              "      <td>0.0</td>\n",
              "      <td>0.0</td>\n",
              "      <td>PESO</td>\n",
              "    </tr>\n",
              "    <tr>\n",
              "      <th>7</th>\n",
              "      <td>11,00</td>\n",
              "      <td>1972336800.00</td>\n",
              "      <td>0.0</td>\n",
              "      <td>11,00</td>\n",
              "      <td>66.0</td>\n",
              "      <td>12.0</td>\n",
              "      <td>Tráfico de drogas tóxicas, estupefacientes o s...</td>\n",
              "      <td>0.0</td>\n",
              "      <td>0.0</td>\n",
              "      <td>PESO</td>\n",
              "    </tr>\n",
              "    <tr>\n",
              "      <th>8</th>\n",
              "      <td>4,00</td>\n",
              "      <td>95000000.00</td>\n",
              "      <td>0.0</td>\n",
              "      <td>5,00</td>\n",
              "      <td>1.0</td>\n",
              "      <td>11001057.0</td>\n",
              "      <td>Enriquecimiento ilícito de particulares</td>\n",
              "      <td>0.0</td>\n",
              "      <td>0.0</td>\n",
              "      <td>PESO</td>\n",
              "    </tr>\n",
              "    <tr>\n",
              "      <th>9</th>\n",
              "      <td>34,00</td>\n",
              "      <td>371228353.00</td>\n",
              "      <td>1.0</td>\n",
              "      <td>1,00</td>\n",
              "      <td>1.0</td>\n",
              "      <td>7.0</td>\n",
              "      <td>Delitos contra la administración pública - Enr...</td>\n",
              "      <td>0.0</td>\n",
              "      <td>13.0</td>\n",
              "      <td>PESO</td>\n",
              "    </tr>\n",
              "    <tr>\n",
              "      <th>10</th>\n",
              "      <td>14,00</td>\n",
              "      <td>1146606502.00</td>\n",
              "      <td>1.0</td>\n",
              "      <td>1,00</td>\n",
              "      <td>1.0</td>\n",
              "      <td>7.0</td>\n",
              "      <td>Delitos contra el sistema financiero - Captaci...</td>\n",
              "      <td>0.0</td>\n",
              "      <td>13.0</td>\n",
              "      <td>PESO</td>\n",
              "    </tr>\n",
              "    <tr>\n",
              "      <th>11</th>\n",
              "      <td>57,00</td>\n",
              "      <td>124067000.00</td>\n",
              "      <td>0.0</td>\n",
              "      <td>5,00</td>\n",
              "      <td>1.0</td>\n",
              "      <td>11001049.0</td>\n",
              "      <td>Delitos contra la administración pública - Omi...</td>\n",
              "      <td>0.0</td>\n",
              "      <td>0.0</td>\n",
              "      <td>PESO</td>\n",
              "    </tr>\n",
              "    <tr>\n",
              "      <th>12</th>\n",
              "      <td>4,00</td>\n",
              "      <td>2014552426.00</td>\n",
              "      <td>1.0</td>\n",
              "      <td>1,00</td>\n",
              "      <td>1.0</td>\n",
              "      <td>7.0</td>\n",
              "      <td>Enriquecimiento ilícito de particulares</td>\n",
              "      <td>0.0</td>\n",
              "      <td>15.0</td>\n",
              "      <td>PESO</td>\n",
              "    </tr>\n",
              "    <tr>\n",
              "      <th>13</th>\n",
              "      <td>14,00</td>\n",
              "      <td>9141863950.00</td>\n",
              "      <td>1.0</td>\n",
              "      <td>1,00</td>\n",
              "      <td>1.0</td>\n",
              "      <td>7.0</td>\n",
              "      <td>Delitos contra el sistema financiero - Captaci...</td>\n",
              "      <td>0.0</td>\n",
              "      <td>15.0</td>\n",
              "      <td>PESO</td>\n",
              "    </tr>\n",
              "    <tr>\n",
              "      <th>14</th>\n",
              "      <td>4,00</td>\n",
              "      <td>575000000.00</td>\n",
              "      <td>1.0</td>\n",
              "      <td>5,00</td>\n",
              "      <td>1.0</td>\n",
              "      <td>11001062.0</td>\n",
              "      <td>Enriquecimiento ilícito de particulares</td>\n",
              "      <td>0.0</td>\n",
              "      <td>0.0</td>\n",
              "      <td>PESO</td>\n",
              "    </tr>\n",
              "    <tr>\n",
              "      <th>15</th>\n",
              "      <td>14,00</td>\n",
              "      <td>281497.00</td>\n",
              "      <td>1.0</td>\n",
              "      <td>1,00</td>\n",
              "      <td>1.0</td>\n",
              "      <td>7.0</td>\n",
              "      <td>Delitos contra el sistema financiero - Captaci...</td>\n",
              "      <td>0.0</td>\n",
              "      <td>13.0</td>\n",
              "      <td>DÓLAR</td>\n",
              "    </tr>\n",
              "    <tr>\n",
              "      <th>16</th>\n",
              "      <td>58,00</td>\n",
              "      <td>130703.00</td>\n",
              "      <td>0.0</td>\n",
              "      <td>1,00</td>\n",
              "      <td>4.0</td>\n",
              "      <td>115.0</td>\n",
              "      <td>Vinculados con el producto de delitos ejecutad...</td>\n",
              "      <td>0.0</td>\n",
              "      <td>13.0</td>\n",
              "      <td>DÓLAR</td>\n",
              "    </tr>\n",
              "    <tr>\n",
              "      <th>17</th>\n",
              "      <td>4,00</td>\n",
              "      <td>5000000.00</td>\n",
              "      <td>0.0</td>\n",
              "      <td>1,00</td>\n",
              "      <td>13.0</td>\n",
              "      <td>22.0</td>\n",
              "      <td>Enriquecimiento ilícito de particulares</td>\n",
              "      <td>0.0</td>\n",
              "      <td>0.0</td>\n",
              "      <td>PESO</td>\n",
              "    </tr>\n",
              "    <tr>\n",
              "      <th>18</th>\n",
              "      <td>4,00</td>\n",
              "      <td>5000000.00</td>\n",
              "      <td>0.0</td>\n",
              "      <td>1,00</td>\n",
              "      <td>13.0</td>\n",
              "      <td>22.0</td>\n",
              "      <td>Enriquecimiento ilícito de particulares</td>\n",
              "      <td>0.0</td>\n",
              "      <td>0.0</td>\n",
              "      <td>PESO</td>\n",
              "    </tr>\n",
              "    <tr>\n",
              "      <th>19</th>\n",
              "      <td>4,00</td>\n",
              "      <td>744750.00</td>\n",
              "      <td>0.0</td>\n",
              "      <td>1,00</td>\n",
              "      <td>13.0</td>\n",
              "      <td>17.0</td>\n",
              "      <td>Enriquecimiento ilícito de particulares</td>\n",
              "      <td>0.0</td>\n",
              "      <td>0.0</td>\n",
              "      <td>PESO</td>\n",
              "    </tr>\n",
              "  </tbody>\n",
              "</table>\n",
              "</div>\n",
              "    <div class=\"colab-df-buttons\">\n",
              "\n",
              "  <div class=\"colab-df-container\">\n",
              "    <button class=\"colab-df-convert\" onclick=\"convertToInteractive('df-1c8e748d-a0a8-4e00-a32f-c7ffd589e7a7')\"\n",
              "            title=\"Convert this dataframe to an interactive table.\"\n",
              "            style=\"display:none;\">\n",
              "\n",
              "  <svg xmlns=\"http://www.w3.org/2000/svg\" height=\"24px\" viewBox=\"0 -960 960 960\">\n",
              "    <path d=\"M120-120v-720h720v720H120Zm60-500h600v-160H180v160Zm220 220h160v-160H400v160Zm0 220h160v-160H400v160ZM180-400h160v-160H180v160Zm440 0h160v-160H620v160ZM180-180h160v-160H180v160Zm440 0h160v-160H620v160Z\"/>\n",
              "  </svg>\n",
              "    </button>\n",
              "\n",
              "  <style>\n",
              "    .colab-df-container {\n",
              "      display:flex;\n",
              "      gap: 12px;\n",
              "    }\n",
              "\n",
              "    .colab-df-convert {\n",
              "      background-color: #E8F0FE;\n",
              "      border: none;\n",
              "      border-radius: 50%;\n",
              "      cursor: pointer;\n",
              "      display: none;\n",
              "      fill: #1967D2;\n",
              "      height: 32px;\n",
              "      padding: 0 0 0 0;\n",
              "      width: 32px;\n",
              "    }\n",
              "\n",
              "    .colab-df-convert:hover {\n",
              "      background-color: #E2EBFA;\n",
              "      box-shadow: 0px 1px 2px rgba(60, 64, 67, 0.3), 0px 1px 3px 1px rgba(60, 64, 67, 0.15);\n",
              "      fill: #174EA6;\n",
              "    }\n",
              "\n",
              "    .colab-df-buttons div {\n",
              "      margin-bottom: 4px;\n",
              "    }\n",
              "\n",
              "    [theme=dark] .colab-df-convert {\n",
              "      background-color: #3B4455;\n",
              "      fill: #D2E3FC;\n",
              "    }\n",
              "\n",
              "    [theme=dark] .colab-df-convert:hover {\n",
              "      background-color: #434B5C;\n",
              "      box-shadow: 0px 1px 3px 1px rgba(0, 0, 0, 0.15);\n",
              "      filter: drop-shadow(0px 1px 2px rgba(0, 0, 0, 0.3));\n",
              "      fill: #FFFFFF;\n",
              "    }\n",
              "  </style>\n",
              "\n",
              "    <script>\n",
              "      const buttonEl =\n",
              "        document.querySelector('#df-1c8e748d-a0a8-4e00-a32f-c7ffd589e7a7 button.colab-df-convert');\n",
              "      buttonEl.style.display =\n",
              "        google.colab.kernel.accessAllowed ? 'block' : 'none';\n",
              "\n",
              "      async function convertToInteractive(key) {\n",
              "        const element = document.querySelector('#df-1c8e748d-a0a8-4e00-a32f-c7ffd589e7a7');\n",
              "        const dataTable =\n",
              "          await google.colab.kernel.invokeFunction('convertToInteractive',\n",
              "                                                    [key], {});\n",
              "        if (!dataTable) return;\n",
              "\n",
              "        const docLinkHtml = 'Like what you see? Visit the ' +\n",
              "          '<a target=\"_blank\" href=https://colab.research.google.com/notebooks/data_table.ipynb>data table notebook</a>'\n",
              "          + ' to learn more about interactive tables.';\n",
              "        element.innerHTML = '';\n",
              "        dataTable['output_type'] = 'display_data';\n",
              "        await google.colab.output.renderOutput(dataTable, element);\n",
              "        const docLink = document.createElement('div');\n",
              "        docLink.innerHTML = docLinkHtml;\n",
              "        element.appendChild(docLink);\n",
              "      }\n",
              "    </script>\n",
              "  </div>\n",
              "\n",
              "\n",
              "<div id=\"df-231413dc-ce8c-4d4d-afd7-239ef715fc38\">\n",
              "  <button class=\"colab-df-quickchart\" onclick=\"quickchart('df-231413dc-ce8c-4d4d-afd7-239ef715fc38')\"\n",
              "            title=\"Suggest charts.\"\n",
              "            style=\"display:none;\">\n",
              "\n",
              "<svg xmlns=\"http://www.w3.org/2000/svg\" height=\"24px\"viewBox=\"0 0 24 24\"\n",
              "     width=\"24px\">\n",
              "    <g>\n",
              "        <path d=\"M19 3H5c-1.1 0-2 .9-2 2v14c0 1.1.9 2 2 2h14c1.1 0 2-.9 2-2V5c0-1.1-.9-2-2-2zM9 17H7v-7h2v7zm4 0h-2V7h2v10zm4 0h-2v-4h2v4z\"/>\n",
              "    </g>\n",
              "</svg>\n",
              "  </button>\n",
              "\n",
              "<style>\n",
              "  .colab-df-quickchart {\n",
              "    background-color: #E8F0FE;\n",
              "    border: none;\n",
              "    border-radius: 50%;\n",
              "    cursor: pointer;\n",
              "    display: none;\n",
              "    fill: #1967D2;\n",
              "    height: 32px;\n",
              "    padding: 0 0 0 0;\n",
              "    width: 32px;\n",
              "  }\n",
              "\n",
              "  .colab-df-quickchart:hover {\n",
              "    background-color: #E2EBFA;\n",
              "    box-shadow: 0px 1px 2px rgba(60, 64, 67, 0.3), 0px 1px 3px 1px rgba(60, 64, 67, 0.15);\n",
              "    fill: #174EA6;\n",
              "  }\n",
              "\n",
              "  [theme=dark] .colab-df-quickchart {\n",
              "    background-color: #3B4455;\n",
              "    fill: #D2E3FC;\n",
              "  }\n",
              "\n",
              "  [theme=dark] .colab-df-quickchart:hover {\n",
              "    background-color: #434B5C;\n",
              "    box-shadow: 0px 1px 3px 1px rgba(0, 0, 0, 0.15);\n",
              "    filter: drop-shadow(0px 1px 2px rgba(0, 0, 0, 0.3));\n",
              "    fill: #FFFFFF;\n",
              "  }\n",
              "</style>\n",
              "\n",
              "  <script>\n",
              "    async function quickchart(key) {\n",
              "      const charts = await google.colab.kernel.invokeFunction(\n",
              "          'suggestCharts', [key], {});\n",
              "    }\n",
              "    (() => {\n",
              "      let quickchartButtonEl =\n",
              "        document.querySelector('#df-231413dc-ce8c-4d4d-afd7-239ef715fc38 button');\n",
              "      quickchartButtonEl.style.display =\n",
              "        google.colab.kernel.accessAllowed ? 'block' : 'none';\n",
              "    })();\n",
              "  </script>\n",
              "</div>\n",
              "    </div>\n",
              "  </div>\n"
            ]
          },
          "metadata": {},
          "execution_count": 2
        }
      ]
    },
    {
      "cell_type": "markdown",
      "source": [
        "Se consulta las columnas del DataFrame llamado dataset para identificar sus nombres y tener una comprensión de las variables o características con las que trabajará en su análisis o procesamiento posterior. Esta consulta es útil para obtener una visión general de la estructura del conjunto de datos. Al ejecutar este código, se mostrará una lista de todas las columnas presentes en el DataFrame."
      ],
      "metadata": {
        "id": "dKVhn1XeIw0U"
      }
    },
    {
      "cell_type": "code",
      "source": [
        "dataset.columns"
      ],
      "metadata": {
        "colab": {
          "base_uri": "https://localhost:8080/"
        },
        "id": "Se5wHV5a_Ru1",
        "outputId": "a408b662-ab9e-4aff-d158-469fe90f38f4"
      },
      "execution_count": null,
      "outputs": [
        {
          "output_type": "execute_result",
          "data": {
            "text/plain": [
              "Index(['DescripcionId', 'ValorTransaccion', 'TieneAdjuntos', 'SectorId',\n",
              "       'TipoEntidadID', 'EntidadId', 'Tipologia', 'NotificoAutoridad',\n",
              "       'CalificaAnalista', 'MONEDA'],\n",
              "      dtype='object')"
            ]
          },
          "metadata": {},
          "execution_count": 3
        }
      ]
    },
    {
      "cell_type": "markdown",
      "source": [
        "Se eliminan todas las filas que contienen valores faltantes o NaN del DataFrame dataset.\n",
        "Se reasigna el DataFrame limpio (sin filas con valores faltantes) a la misma variable dataset.\n",
        "Este proceso es útil para asegurarse de que el análisis o modelado posterior no se vea afectado por datos incompletos o faltantes.\n"
      ],
      "metadata": {
        "id": "nVaMlVgHIxKV"
      }
    },
    {
      "cell_type": "code",
      "source": [
        "dataset = dataset.dropna()"
      ],
      "metadata": {
        "id": "0tXklZ4L_Rrv"
      },
      "execution_count": null,
      "outputs": []
    },
    {
      "cell_type": "markdown",
      "source": [
        "Se muestra un resumen conciso del DataFrame dataset.\n",
        "Se visualiza la información sobre el índice, las columnas, los tipos de datos y la memoria utilizada.\n",
        "Se proporciona el número de valores no nulos en cada columna, lo que permite identificar rápidamente si hay columnas con datos faltantes.\n",
        "Se indica el tipo de dato de cada columna, facilitando la identificación de columnas numéricas, categóricas u otros tipos.\n",
        "Este comando es útil para obtener una rápida visión general de la estructura y calidad del conjunto de datos."
      ],
      "metadata": {
        "id": "3lswas7qIxa8"
      }
    },
    {
      "cell_type": "code",
      "source": [
        "#Se muestra la informacion de las columnas del dataframe, como el tipo de dato y si hay nulos.\n",
        "dataset.info()"
      ],
      "metadata": {
        "colab": {
          "base_uri": "https://localhost:8080/"
        },
        "id": "DXufl1L9_Roj",
        "outputId": "a233e480-4080-4490-b560-b7740790a369"
      },
      "execution_count": null,
      "outputs": [
        {
          "output_type": "stream",
          "name": "stdout",
          "text": [
            "<class 'pandas.core.frame.DataFrame'>\n",
            "Int64Index: 76593 entries, 0 to 76599\n",
            "Data columns (total 10 columns):\n",
            " #   Column             Non-Null Count  Dtype  \n",
            "---  ------             --------------  -----  \n",
            " 0   DescripcionId      76593 non-null  object \n",
            " 1   ValorTransaccion   76593 non-null  object \n",
            " 2   TieneAdjuntos      76593 non-null  float64\n",
            " 3   SectorId           76593 non-null  object \n",
            " 4   TipoEntidadID      76593 non-null  float64\n",
            " 5   EntidadId          76593 non-null  float64\n",
            " 6   Tipologia          76593 non-null  object \n",
            " 7   NotificoAutoridad  76593 non-null  float64\n",
            " 8   CalificaAnalista   76593 non-null  float64\n",
            " 9   MONEDA             76593 non-null  object \n",
            "dtypes: float64(5), object(5)\n",
            "memory usage: 6.4+ MB\n"
          ]
        }
      ]
    },
    {
      "cell_type": "markdown",
      "source": [
        "Se consulta la frecuencia de cada valor único presente en la columna 'Tipologia' del DataFrame `dataset'.\n",
        "Se cuenta y muestra cuántas veces aparece cada tipología en el conjunto de datos.\n",
        "La lista proporcionada a continuación parece indicar diferentes categorías o tipologías de delitos o actividades ilícitas:"
      ],
      "metadata": {
        "id": "irYpU5MpJsTb"
      }
    },
    {
      "cell_type": "code",
      "source": [
        "dataset['Tipologia'].value_counts()\n",
        "# NO SE LOGRA DEFINIR\n",
        "# ENRIQUECIMIENTO ILICITO\n",
        "# NARCOTRAFICO\n",
        "# COMEX\n",
        "# LAVADO DE ACTIVOS\n",
        "# CORRUPCIÓN\n",
        "# CRIMERN ORGANIZADO\n",
        "# DELITOS AMBIENTALES\n",
        "# ACTIVOS VIRTUALES\n",
        "# TRAFICO DE MIGRANTES\n",
        "# TRATA DE PERSONAS\n",
        "# CONTRABANDO\n",
        "# FINANCIACIÓN DEL TERRORIMO\n",
        "# DELITOS CONTRA EL SISTEMA FINANCIERO"
      ],
      "metadata": {
        "colab": {
          "base_uri": "https://localhost:8080/"
        },
        "id": "Ix3_Pvqu_Rnl",
        "outputId": "9b8dd5f4-bc0c-4055-cbac-c83870c1cacc"
      },
      "execution_count": null,
      "outputs": [
        {
          "output_type": "execute_result",
          "data": {
            "text/plain": [
              "Enriquecimiento ilícito de particulares                                                                                                             24800\n",
              "Tráfico de drogas tóxicas, estupefacientes o sustancias sicotrópicas - Tráfico, fabricación o porte de estupefacientes.                              6921\n",
              "Lavado de Activos                                                                                                                                    5657\n",
              "Captación ilegal de recursos                                                                                                                         3605\n",
              "Delitos contra el sistema financiero - Captación Masiva y Habitual de Dinero                                                                         3366\n",
              "                                                                                                                                                    ...  \n",
              "Delitos contra la administración pública - Circunstancia de agravación punitiva (Usurpación y abuso de funciones públicas con fines terroristas)        5\n",
              "Delitos contra la administración pública - Usurpación de funciones públicas                                                                             5\n",
              "Delitos contra la administración pública - Perturbación de actos oficiales                                                                              3\n",
              "Delitos contra la administración pública - Empleo ilegal de la fuerza pública                                                                           1\n",
              "Delitos contra la administración pública - Revelación de secreto                                                                                        1\n",
              "Name: Tipologia, Length: 84, dtype: int64"
            ]
          },
          "metadata": {},
          "execution_count": 6
        }
      ]
    },
    {
      "cell_type": "markdown",
      "source": [
        "Se realiza una sustitución de valores en el DataFrame dataset:\n",
        "\n",
        "Las diversas descripciones asociadas a distintos tipos de actividades ilícitas o delitos se reemplazan con categorías más generales para una mejor clasificación y simplificación del conjunto de datos.\n",
        "Estas categorías más generales incluyen \"ENRIQUECIMIENTO_ILÍCITO\", \"NARCOTRÁFICO\", \"COMEX_CONTRABANDO\", entre otras.\n",
        "Se utiliza el método .replace() de pandas para llevar a cabo estas sustituciones.\n",
        "Una vez ejecutado este código, la columna 'Tipologia' de dataset (renombrado a dataset2) contendrá las categorías generales en lugar de las descripciones detalladas originales. Esto facilitará el análisis y la comprensión de los datos al agrupar categorías similares bajo un solo término."
      ],
      "metadata": {
        "id": "WpdfupQ-JxsC"
      }
    },
    {
      "cell_type": "code",
      "source": [
        "dataset2 = dataset.replace({'Enriquecimiento ilícito de particulares':'ENRIQUECIMIENTO_IILÍCITO',\n",
        "'Delitos contra la administración pública - Enriquecimiento ilícito':'ENRIQUECIMIENTO_IILÍCITO',\n",
        "'Captación ilegal de recursos':'ENRIQUECIMIENTO_IILÍCITO',\n",
        "'Variaciones patrimoniales':'ENRIQUECIMIENTO_IILÍCITO',\n",
        "'Tráfico de estupefacientes':'NARCOTRÁFICO',\n",
        "'Tráfico de drogas tóxicas, estupefacientes o sustancias sicotrópicas - Tráfico, fabricación o porte de estupefacientes.':'NARCOTRÁFICO',\n",
        "'fabricación o porte de estupefacientes.':'NARCOTRÁFICO',\n",
        "'Narcotráfico ':'NARCOTRÁFICO',\n",
        "'Fraude aduanero':'COMEX_CONTRABANDO',\n",
        "'Favorecimiento o facilitacion del contrabando':'COMEX_CONTRABANDO',\n",
        "'Favorecimiento o facilitación del contrabando':'COMEX_CONTRABANDO',\n",
        "'Comercio exterior- Simulación de operaciones ':'COMEX_CONTRABANDO',\n",
        "'Contrabando ':'COMEX_CONTRABANDO',\n",
        "'Contrabando':'COMEX_CONTRABANDO',\n",
        "'Comercio\\xa0exterior- Contrabando ':'COMEX_CONTRABANDO',\n",
        "'Delitos contra la administración pública - Simulación de investidura o cargo':'CORRUPCIÓN',\n",
        "'Lavado de Activos':'LAVADO_ACTIVOS',\n",
        "'Delitos contra la administración pública - Violación del régimen legal o constitucional de inhabilidades e incompatibilidades':'CORRUPCIÓN',\n",
        "'Delitos contra la administración pública - Peculado por apropiación':'CORRUPCIÓN',\n",
        "'Corrupción':'CORRUPCIÓN',\n",
        "'Delitos contra la administración pública - Interés indebido en la celebración de contratos':'CORRUPCIÓN',\n",
        "'Delitos contra la administración pública - Prevaricato por omisión':'CORRUPCIÓN',\n",
        "'Delitos contra la administración pública - Abuso de autoridad por omisión de denuncia':'CORRUPCIÓN',\n",
        "'Delitos contra la administración pública - Asesoramiento y otras actuaciones ilegales':'CORRUPCIÓN',\n",
        "'Delitos contra la administración pública - Contrato sin cumplimiento de requisitos legales':'CORRUPCIÓN',\n",
        "'Delitos contra el sistema financiero - Utilización indebida de fondos captados del público':'CORRUPCIÓN',\n",
        "'Delitos contra la administración pública - Cohecho por dar u ofrecer':'CORRUPCIÓN',\n",
        "'Delitos contra la administración pública - Abuso de función pública':'CORRUPCIÓN',\n",
        "'Delitos contra la administración pública - Concusión':'CORRUPCIÓN',\n",
        "'Delitos contra la administración pública - Asociación para la comisión de un delito contra la administración pública':'CORRUPCIÓN',\n",
        "'Delitos contra la administración pública - Cohecho propio':'CORRUPCIÓN',\n",
        "'Delitos contra la administración pública - Omisión del agente retenedor o recaudador':'CORRUPCIÓN',\n",
        "'Delitos contra la administración pública - Intervención en política':'CORRUPCIÓN',\n",
        "'Delitos contra la administración pública - Prevaricato por acción':'CORRUPCIÓN',\n",
        "'Favorecimiento de hidrocarburos y sus derivados':'CORRUPCIÓN',\n",
        "'Delitos contra la administración pública - Soborno transnacional':'CORRUPCIÓN',\n",
        "'Delitos contra la administración pública - Tráfico de influencias de servidor público':'CORRUPCIÓN',\n",
        "'Delitos contra la administración pública - Peculado por uso':'CORRUPCIÓN',\n",
        "'Delitos contra la administración pública - Peculado culposo':'CORRUPCIÓN',\n",
        "'Delitos contra la administración pública - Acuerdos restrictivos de la competencia':'CORRUPCIÓN',\n",
        "'Delitos contra la administración pública - Fraude a subvenciones':'CORRUPCIÓN',\n",
        "'Tráfico de niños, niñas y adolescentes':'TRATA_PERSONAS',\n",
        "'Tráfico de armas - Fabricación, tráfico y porte de armas de fuego o municiones':'CRIMEN_ORGANIZADO',\n",
        "'Vinculados con el producto de delitos ejecutados bajo concierto para delinquir - Concierto para delinquir':'CRIMEN_ORGANIZADO',\n",
        " 'Secuestro':'CRIMEN_ORGANIZADO',\n",
        "'Tráfico de armas - Fabricación, tráfico y porte de armas y municiones de uso privativo de las fuerzas armadas.':'CRIMEN_ORGANIZADO',\n",
        "'Rebelión':'CRIMEN_ORGANIZADO',\n",
        "'Relaciones con Grupos Armados Organizados ':'CRIMEN_ORGANIZADO',\n",
        "'Tráfico de armas - Fabricación, importación, tráfico, posesión y uso de armas químicas, biológicas y nucleares':'CRIMEN_ORGANIZADO',\n",
        "'Contrabado de hidrocarburos y sus derivados':'DELITOS_AMBIENTALES',\n",
        "'Trata de personas ':'DELITOS_AMBIENTALES',\n",
        " 'Minería ilegal ':'DELITOS_AMBIENTALES',\n",
        "'Delitos contra la administración pública - Destino de recursos del tesoro para el estímulo o beneficio indebido de explotadores y comerciantes de metales preciosos':'DELITOS_AMBIENTALES',\n",
        "'Delitos contra la administración pública - Soborno transnacional':'DELITOS_SISTEMA_FINANCIERO',\n",
        "'Operaciones con activos virtuales ':'ACTIVOS_VIRTUALES',\n",
        "'Tráfico de migrantes':'TRÁFICO_MIGRANTES',\n",
        "'Trata de personas':'TRATA_PERSONAS',\n",
        "'Financiación del terrorismo y administración de recursos relacionados con actividades terroristas':'FINANCIACIÓN_TERRORISMO',\n",
        "'Financiación del terrorismo ':'FINANCIACIÓN_TERRORISMO',\n",
        "'Financiamiento de terrorismo ':'FINANCIACIÓN_TERRORISMO',\n",
        "'Delitos contra el sistema financiero - Manipulación fraudulenta de especies inscritas en el Registro Nacional de Valores e Intermediarios':'DELITOS_SISTEMA_FINANCIERO',\n",
        "'Delitos contra el sistema financiero - Operaciones no autorizadas con accionistas o asociados':'DELITOS_SISTEMA_FINANCIERO',\n",
        "'Delitos contra el sistema financiero - Captación Masiva y Habitual de Dinero':'DELITOS_SISTEMA_FINANCIERO',\n",
        "'Extorsión':'EXTORSIÓN',\n",
        "'Secuestro extorsivo':'SECUESTRO_EXTORSIVO',\n",
        "'Defraudación o evasión tributaria':'EVASION_FISCAL',\n",
        "'Delitos contra la administración pública - Omisión de activos o inclusión de pasivos inexistentes':'EVASION_FISCAL',\n",
        "'Delitos contra la administración pública - Peculado culposo frente a recursos de la Seguridad Social':'CORRUPCIÓN',\n",
        "'Delitos contra la administración pública - Omisión de apoyo':'CORRUPCIÓN',\n",
        "'Delitos contra la administración pública - Utilización indebida de información oficial privilegiada':'CORRUPCIÓN',\n",
        "'Delitos contra la administración pública - Utilización de asunto sometido a secreto o reserva':'CORRUPCIÓN',\n",
        "'Delitos contra la administración pública - Trafico de influencias de particulares ':'CORRUPCIÓN',\n",
        "'Delitos contra la administración pública - Utilización indebida de influencias derivadas del ejercicio de función pública':'CORRUPCIÓN',\n",
        "'Delitos contra la administración pública - Circunstancia de agravación punitiva (Usurpación y abuso de funciones públicas con fines terroristas)':'CRIMEN_ORGANIZADO',\n",
        "'Delitos contra la administración pública - Perturbación de actos oficiales':'CORRUPCIÓN',\n",
        "'Delitos contra la administración pública - Violencia contra servidor público':'CRIMEN_ORGANIZADO',\n",
        "'Delitos contra la administración pública - Abuso de autoridad por acto arbitrario e injusto':'CORRUPCIÓN',\n",
        "'Delitos contra la administración pública - Usurpación de funciones públicas':'CORRUPCIÓN',\n",
        "'Delitos contra la administración pública - Revelación de secreto':'CORRUPCIÓN',\n",
        "'Contrabando de hidrocarburos y sus derivados':'DELITOS_AMBIENTALES',\n",
        "'Delitos contra la administración pública - Cohecho impropio':'CORRUPCIÓN',\n",
        "'Delitos contra la administración pública - Peculado por aplicación oficial diferente':'CORRUPCIÓN',\n",
        "'Delitos contra la administración pública - Utilización indebida de información obtenida en el ejercicio de función pública':'CORRUPCIÓN',\n",
        "'Delitos contra la administración pública - Empleo ilegal de la fuerza pública':'CORRUPCIÓN',\n",
        "'Seleccionar':'NO_SE_LOGRA_DEFINIR',\n",
        "'Ninguna':'NO_SE_LOGRA_DEFINIR',\n",
        "'Otro':'NO_SE_LOGRA_DEFINIR',\n",
        "'0':'NO_SE_LOGRA_DEFINIR',\n",
        "})"
      ],
      "metadata": {
        "id": "FNEDHoSd_RjA"
      },
      "execution_count": null,
      "outputs": []
    },
    {
      "cell_type": "markdown",
      "source": [
        "Se consulta la lista de valores únicos en la columna 'Tipologia' del DataFrame dataset2 utilizando el método .unique(). Esto permitirá ver todas las categorías generales que se han establecido tras la sustitución realizada anteriormente."
      ],
      "metadata": {
        "id": "fOzGJjsnJ6UJ"
      }
    },
    {
      "cell_type": "code",
      "source": [
        "dataset2['Tipologia'].unique()"
      ],
      "metadata": {
        "colab": {
          "base_uri": "https://localhost:8080/"
        },
        "id": "w_AxLVHB_RgX",
        "outputId": "c42d104c-e3a2-4661-e986-2f424c681d51"
      },
      "execution_count": null,
      "outputs": [
        {
          "output_type": "execute_result",
          "data": {
            "text/plain": [
              "array(['CRIMEN_ORGANIZADO', 'ENRIQUECIMIENTO_IILÍCITO',\n",
              "       'FINANCIACIÓN_TERRORISMO', 'DELITOS_SISTEMA_FINANCIERO',\n",
              "       'NARCOTRÁFICO', 'EVASION_FISCAL', 'CORRUPCIÓN',\n",
              "       'COMEX_CONTRABANDO', 'EXTORSIÓN', 'TRATA_PERSONAS',\n",
              "       'TRÁFICO_MIGRANTES', 'DELITOS_AMBIENTALES', 'SECUESTRO_EXTORSIVO',\n",
              "       'LAVADO_ACTIVOS', 'NO_SE_LOGRA_DEFINIR', 'ACTIVOS_VIRTUALES'],\n",
              "      dtype=object)"
            ]
          },
          "metadata": {},
          "execution_count": 8
        }
      ]
    },
    {
      "cell_type": "markdown",
      "source": [
        "Se realiza un conteo de la frecuencia de cada valor único en la columna 'Tipologia' del DataFrame dataset2 utilizando el método .value_counts(). Esto proporcionará una visión detallada de cuántas veces aparece cada categoría general en el conjunto de datos."
      ],
      "metadata": {
        "id": "b5B3pbxSJ_JY"
      }
    },
    {
      "cell_type": "code",
      "source": [
        "dataset2['Tipologia'].value_counts()"
      ],
      "metadata": {
        "colab": {
          "base_uri": "https://localhost:8080/"
        },
        "id": "WpHwAvES_Rdq",
        "outputId": "094c95c7-ef3d-4395-c83e-b08773ab1b85"
      },
      "execution_count": null,
      "outputs": [
        {
          "output_type": "execute_result",
          "data": {
            "text/plain": [
              "ENRIQUECIMIENTO_IILÍCITO      32096\n",
              "CORRUPCIÓN                     9268\n",
              "NARCOTRÁFICO                   8157\n",
              "LAVADO_ACTIVOS                 5657\n",
              "CRIMEN_ORGANIZADO              5277\n",
              "COMEX_CONTRABANDO              4769\n",
              "DELITOS_SISTEMA_FINANCIERO     3760\n",
              "FINANCIACIÓN_TERRORISMO        2724\n",
              "EVASION_FISCAL                 1437\n",
              "NO_SE_LOGRA_DEFINIR            1237\n",
              "EXTORSIÓN                      1095\n",
              "DELITOS_AMBIENTALES             279\n",
              "TRATA_PERSONAS                  226\n",
              "SECUESTRO_EXTORSIVO             225\n",
              "ACTIVOS_VIRTUALES               207\n",
              "TRÁFICO_MIGRANTES               179\n",
              "Name: Tipologia, dtype: int64"
            ]
          },
          "metadata": {},
          "execution_count": 9
        }
      ]
    },
    {
      "cell_type": "markdown",
      "source": [
        "Se crea una visualización para el conteo de datos por tipología usando la librería Seaborn."
      ],
      "metadata": {
        "id": "AmcEViEFKBlV"
      }
    },
    {
      "cell_type": "code",
      "source": [
        "plt.figure(figsize=(12, 8))\n",
        "sns.countplot(data = dataset2, x ='Tipologia')\n",
        "plt.grid()\n",
        "plt.title('Conteo de datos por tipología', fontsize=20)  # Aumenta el tamaño del título\n",
        "plt.xlabel('Tipologia', fontsize=16)  # Aumenta el tamaño de la etiqueta del eje x\n",
        "plt.ylabel('Conteo', fontsize=16)  # Aumenta el tamaño de la etiqueta del eje y\n",
        "plt.xticks(rotation=90)\n",
        "plt.show()"
      ],
      "metadata": {
        "colab": {
          "base_uri": "https://localhost:8080/",
          "height": 938
        },
        "id": "zXE57NFs_Rcl",
        "outputId": "1d99b4ed-818a-4c8a-e34c-f04610374b9e"
      },
      "execution_count": null,
      "outputs": [
        {
          "output_type": "display_data",
          "data": {
            "text/plain": [
              "<Figure size 1200x800 with 1 Axes>"
            ],
            "image/png": "[encoded data removed]"
          },
          "metadata": {}
        }
      ]
    },
    {
      "cell_type": "markdown",
      "source": [
        "Se realizan las siguientes operaciones sobre el DataFrame dataset2:\n",
        "\n",
        "Codificación de Etiquetas (Label Encoding): Se convierten las columnas categóricas 'Tipologia', 'MONEDA', 'DescripcionId', y 'SectorId' en números. El codificador LabelEncoder de preprocessing asigna un valor numérico único a cada valor categórico en la columna. Esto es útil para algoritmos que requieren entrada numérica, como la mayoría de los algoritmos de aprendizaje automático.\n",
        "\n",
        "Transformación del Valor de Transacción: Se eliminan las comas de la columna 'ValorTransaccion' para convertir la columna en un formato numérico adecuado. Luego, se convierte la columna 'ValorTransaccion' en un tipo numérico. Si hay algún valor que no se puede convertir en un número, se maneja el error usando el parámetro errors='coerce', que asignará NaN a esos valores.\n",
        "\n",
        "Estas transformaciones son típicas en la preparación de datos para análisis o entrenamiento de modelos. Es importante asegurarse de que las columnas numéricas no contengan caracteres no numéricos antes de la conversión, ya que pueden causar errores o resultados inesperados."
      ],
      "metadata": {
        "id": "L1WnsixIKGHT"
      }
    },
    {
      "cell_type": "code",
      "source": [
        "label_encoder = preprocessing.LabelEncoder()\n",
        "dataset2['Tipologia']= label_encoder.fit_transform(dataset2['Tipologia'])\n",
        "dataset2['MONEDA']= label_encoder.fit_transform(dataset2['MONEDA'])\n",
        "dataset2['DescripcionId']= label_encoder.fit_transform(dataset2['DescripcionId'])\n",
        "dataset2['SectorId']= label_encoder.fit_transform(dataset2['SectorId'])\n",
        "\n",
        "dataset2['ValorTransaccion'] = dataset2['ValorTransaccion'].str.replace(',', '')\n",
        "dataset2['ValorTransaccion'] = pd.to_numeric(dataset2['ValorTransaccion'], errors='coerce')"
      ],
      "metadata": {
        "id": "2_r61_n7_eY-"
      },
      "execution_count": null,
      "outputs": []
    },
    {
      "cell_type": "markdown",
      "source": [
        "Definición de Características y Variable Objetivo: Se define el conjunto de características X tomando todas las columnas del DataFrame dataset2 excepto 'Tipologia'. La variable objetivo y se define como la columna 'Tipologia'.\n",
        "\n",
        "División en Conjuntos de Entrenamiento y Prueba: Se utiliza la función train_test_split para dividir los datos en un conjunto de entrenamiento y un conjunto de prueba. El test_size se establece en 0.3, lo que significa que el 30% de los datos se reservará para pruebas, mientras que el 70% se usará para entrenamiento. La semilla (random_state) se establece en 22 para garantizar la reproducibilidad de la división.\n",
        "\n",
        "Verificación de Dimensiones: Finalmente, se imprime el tamaño de los conjuntos de entrenamiento y prueba para confirmar que la división se realizó correctamente.\n",
        "\n",
        "Estos pasos son esenciales en la preparación previa al entrenamiento de modelos de aprendizaje automático. La separación de datos permite evaluar el rendimiento del modelo en datos que no ha visto anteriormente, proporcionando una estimación de su capacidad de generalización."
      ],
      "metadata": {
        "id": "L9tM6GZ_KGU7"
      }
    },
    {
      "cell_type": "code",
      "source": [
        "\n",
        "# Define tus características y tu variable objetivo\n",
        "X = dataset2.drop('Tipologia', axis=1)  # Características\n",
        "y = dataset2['Tipologia']  # Variable objetivo\n",
        "\n",
        "# Divide los datos en conjuntos de entrenamiento y prueba\n",
        "X_train, X_test, y_train, y_test = train_test_split(X, y, test_size=0.3, random_state=22)\n",
        "\n",
        "# Verifica las dimensiones de los conjuntos de datos generados\n",
        "print('Training set:', X_train.shape, y_train.shape)\n",
        "print('Test set:', X_test.shape, y_test.shape)"
      ],
      "metadata": {
        "colab": {
          "base_uri": "https://localhost:8080/"
        },
        "id": "U0cidpVS_eYO",
        "outputId": "947f0390-e13f-4934-e8d8-89d4b7f47bdb"
      },
      "execution_count": null,
      "outputs": [
        {
          "output_type": "stream",
          "name": "stdout",
          "text": [
            "Training set: (53615, 9) (53615,)\n",
            "Test set: (22978, 9) (22978,)\n"
          ]
        }
      ]
    },
    {
      "cell_type": "markdown",
      "source": [
        "mostrará una descripción concisa de tu DataFrame dataset2. Esto incluirá información sobre:\n",
        "\n",
        "La cantidad de entradas y columnas.\n",
        "El nombre de cada columna.\n",
        "La cantidad de valores no nulos en cada columna.\n",
        "El tipo de dato de cada columna.\n",
        "La memoria que está utilizando el DataFrame."
      ],
      "metadata": {
        "id": "CJdLN6wSKG_G"
      }
    },
    {
      "cell_type": "code",
      "source": [
        "dataset2.info()"
      ],
      "metadata": {
        "colab": {
          "base_uri": "https://localhost:8080/"
        },
        "id": "CUCqfq2E_eUT",
        "outputId": "f9ceed95-5278-4fc2-e93b-b7c7f2029ef6"
      },
      "execution_count": null,
      "outputs": [
        {
          "output_type": "stream",
          "name": "stdout",
          "text": [
            "<class 'pandas.core.frame.DataFrame'>\n",
            "Int64Index: 76593 entries, 0 to 76599\n",
            "Data columns (total 10 columns):\n",
            " #   Column             Non-Null Count  Dtype  \n",
            "---  ------             --------------  -----  \n",
            " 0   DescripcionId      76593 non-null  int64  \n",
            " 1   ValorTransaccion   76593 non-null  float64\n",
            " 2   TieneAdjuntos      76593 non-null  float64\n",
            " 3   SectorId           76593 non-null  int64  \n",
            " 4   TipoEntidadID      76593 non-null  float64\n",
            " 5   EntidadId          76593 non-null  float64\n",
            " 6   Tipologia          76593 non-null  int64  \n",
            " 7   NotificoAutoridad  76593 non-null  float64\n",
            " 8   CalificaAnalista   76593 non-null  float64\n",
            " 9   MONEDA             76593 non-null  int64  \n",
            "dtypes: float64(6), int64(4)\n",
            "memory usage: 6.4 MB\n"
          ]
        }
      ]
    },
    {
      "cell_type": "markdown",
      "source": [
        "Se está utilizando la función setup de la biblioteca pycaret. Esta función es la primera y probablemente la más importante para configurar un entorno en pycaret. Una vez configurado con éxito, todas las funciones de la biblioteca pycaret pueden utilizarse para llevar a cabo diversas tareas en el flujo de trabajo de ciencia de datos.\n",
        "\n",
        "Se define una cuadrícula (grid) para el proceso de entrenamiento utilizando un subconjunto del conjunto de entrenamiento. Dado que no proporcionaste ninguna otra instrucción después de eso, no continué.\n"
      ],
      "metadata": {
        "id": "THIPX4B_Kc5S"
      }
    },
    {
      "cell_type": "code",
      "source": [
        "# compare machine learning algorithms on the sonar classification dataset\n",
        "grid = setup(data=X_train[50000:], target=y_train[50000:], html=False, verbose=False)"
      ],
      "metadata": {
        "id": "mOdoeymt_eRB"
      },
      "execution_count": null,
      "outputs": []
    },
    {
      "cell_type": "markdown",
      "source": [
        "Se compara un conjunto de modelos para determinar cuál es el mejor en función de las métricas predeterminadas. Dependiendo del tamaño del conjunto de datos y la cantidad de modelos en la comparación, esto podría tomar un tiempo. Al final del proceso, se devuelve el modelo con el mejor rendimiento promedio en todas las métricas."
      ],
      "metadata": {
        "id": "XYsAYECULA15"
      }
    },
    {
      "cell_type": "code",
      "source": [
        "best = compare_models()"
      ],
      "metadata": {
        "colab": {
          "base_uri": "https://localhost:8080/"
        },
        "id": "RUol6fEW_eNq",
        "outputId": "f3760afb-ebab-4828-dd15-51f407e199a8"
      },
      "execution_count": null,
      "outputs": [
        {
          "output_type": "stream",
          "name": "stderr",
          "text": [
            "                                                           "
          ]
        },
        {
          "output_type": "stream",
          "name": "stdout",
          "text": [
            "                                    Model  Accuracy     AUC  Recall   Prec.  \\\n",
            "gbc          Gradient Boosting Classifier    0.9292  0.2975  0.9292  0.9198   \n",
            "xgboost         Extreme Gradient Boosting    0.9245  0.2978  0.9245  0.9197   \n",
            "lightgbm  Light Gradient Boosting Machine    0.9229  0.2978  0.9229  0.9140   \n",
            "dt               Decision Tree Classifier    0.9071  0.2845  0.9071  0.9106   \n",
            "rf               Random Forest Classifier    0.8874  0.2941  0.8874  0.8798   \n",
            "et                 Extra Trees Classifier    0.8862  0.2908  0.8862  0.8861   \n",
            "lda          Linear Discriminant Analysis    0.5553  0.2604  0.5553  0.4988   \n",
            "ada                  Ada Boost Classifier    0.5036  0.2451  0.5036  0.3694   \n",
            "ridge                    Ridge Classifier    0.4850  0.0000  0.4850  0.3676   \n",
            "knn                K Neighbors Classifier    0.4277  0.2025  0.4277  0.3944   \n",
            "lr                    Logistic Regression    0.4126  0.1742  0.4126  0.1703   \n",
            "dummy                    Dummy Classifier    0.4126  0.1500  0.4126  0.1703   \n",
            "svm                   SVM - Linear Kernel    0.2391  0.0000  0.2391  0.1147   \n",
            "nb                            Naive Bayes    0.0399  0.1714  0.0399  0.3324   \n",
            "qda       Quadratic Discriminant Analysis    0.0036  0.0000  0.0036  0.0000   \n",
            "\n",
            "              F1   Kappa     MCC  TT (Sec)  \n",
            "gbc       0.9229  0.9089  0.9096    13.526  \n",
            "xgboost   0.9208  0.9031  0.9036     4.012  \n",
            "lightgbm  0.9168  0.9008  0.9015     8.657  \n",
            "dt        0.9073  0.8816  0.8820     0.194  \n",
            "rf        0.8814  0.8555  0.8562     1.195  \n",
            "et        0.8837  0.8548  0.8555     0.996  \n",
            "lda       0.5140  0.4115  0.4176     0.109  \n",
            "ada       0.4144  0.3275  0.3488     0.373  \n",
            "ridge     0.3592  0.1888  0.2648     0.136  \n",
            "knn       0.3957  0.2225  0.2273     0.155  \n",
            "lr        0.2411  0.0000  0.0000     3.720  \n",
            "dummy     0.2411  0.0000  0.0000     0.126  \n",
            "svm       0.1512  0.0211  0.0295     0.412  \n",
            "nb        0.0362 -0.0150 -0.0192     0.113  \n",
            "qda       0.0000  0.0000  0.0000     0.248  \n"
          ]
        },
        {
          "output_type": "stream",
          "name": "stderr",
          "text": [
            "\r"
          ]
        }
      ]
    },
    {
      "cell_type": "markdown",
      "source": [
        "el modelo LGBMClassifier de LightGBM, que es un algoritmo de boosting basado en árboles. Específicamente, has establecido una tasa de aprendizaje de 0.09 y un estado aleatorio de 42.\n",
        "\n",
        "El método fit() se utiliza para entrenar el modelo utilizando el conjunto de entrenamiento (X_train y y_train). Además, esta pasando conjuntos adicionales (X_test y y_test, así como el propio conjunto de entrenamiento) para la evaluación durante el entrenamiento y estás usando la métrica multi_logloss (pérdida logarítmica multiclase) para evaluar el rendimiento.\n",
        "\n",
        "Una vez que ejecute este código, LightGBM comenzará a entrenar el modelo y mostrará la pérdida logarítmica multiclase en cada iteración tanto para el conjunto de entrenamiento como para el conjunto de prueba. Esto permitirá monitorear cómo el modelo se desempeña a lo largo del tiempo y también verificar si hay algún sobreajuste."
      ],
      "metadata": {
        "id": "BLA8LFipLGNe"
      }
    },
    {
      "cell_type": "code",
      "source": [
        "model = lgb.LGBMClassifier(learning_rate=0.09,random_state=42)\n",
        "model.fit(X_train,y_train,eval_set=[(X_test,y_test),(X_train,y_train)],\n",
        "          eval_metric='multi_logloss')"
      ],
      "metadata": {
        "id": "s8mEiJv2_eKc"
      },
      "execution_count": null,
      "outputs": []
    },
    {
      "cell_type": "markdown",
      "source": [
        "La función model.score() calcula la precisión, que es la proporción de predicciones correctas respecto al total de predicciones."
      ],
      "metadata": {
        "id": "SRLxK56CLJn7"
      }
    },
    {
      "cell_type": "code",
      "source": [
        "print('Training accuracy {:.4f}'.format(model.score(X_train,y_train)))\n",
        "print('Testing accuracy {:.4f}'.format(model.score(X_test,y_test)))"
      ],
      "metadata": {
        "colab": {
          "base_uri": "https://localhost:8080/"
        },
        "id": "e6XzSeAy_eH2",
        "outputId": "e92f40eb-5b13-4a30-9971-9c4be8475fb8"
      },
      "execution_count": null,
      "outputs": [
        {
          "output_type": "stream",
          "name": "stdout",
          "text": [
            "Training accuracy 0.9654\n",
            "Testing accuracy 0.9395\n"
          ]
        }
      ]
    },
    {
      "cell_type": "markdown",
      "source": [
        "Al ejecutar el código proporcionado, se visualizará un gráfico que muestra la importancia de las características del modelo entrenado con LightGBM. Las características más importantes estarán en la parte superior del gráfico y las menos importantes en la parte inferior.\n",
        "\n",
        "El método lgb.plot_importance() toma el modelo entrenado como entrada y genera un gráfico de barras que indica la importancia de cada característica según el modelo.\n",
        "\n",
        "El parámetro ax=ax asegura que el gráfico se muestre en la figura y ejes especificados anteriormente.\n",
        "\n",
        "Por lo tanto, si ejecutas el código, verás las características más influyentes en el modelo LightGBM."
      ],
      "metadata": {
        "id": "ZdE_8dAhLKO-"
      }
    },
    {
      "cell_type": "code",
      "source": [
        "fig, ax = plt.subplots(figsize=(12, 10))  # Cambia los valores para ajustar el tamaño de la figura.\n",
        "lgb.plot_importance(model, ax=ax)\n",
        "plt.show()\n"
      ],
      "metadata": {
        "colab": {
          "base_uri": "https://localhost:8080/",
          "height": 870
        },
        "id": "PYJ9NtdQ_eEz",
        "outputId": "e7932cf7-f0c0-4e2c-b894-31c788d6d0e6"
      },
      "execution_count": null,
      "outputs": [
        {
          "output_type": "display_data",
          "data": {
            "text/plain": [
              "<Figure size 1200x1000 with 1 Axes>"
            ],
            "image/png": "[encoded data removed]"
          },
          "metadata": {}
        }
      ]
    },
    {
      "cell_type": "markdown",
      "source": [
        "El código utiliza la función plot_metric de la biblioteca LightGBM para mostrar la evolución del error a lo largo de las iteraciones durante el entrenamiento del modelo. Si lo ejecuta, se mostrará un gráfico que indica cómo se desempeñó el modelo a lo largo de las iteraciones tanto en el conjunto de entrenamiento como en el conjunto de prueba. Es útil para entender si el modelo está sobreajustando, subajustando o si ha convergido."
      ],
      "metadata": {
        "id": "lZHdyMjVLLXd"
      }
    },
    {
      "cell_type": "code",
      "source": [
        "fig, ax = plt.subplots(figsize=(12, 10))\n",
        "lgb.plot_metric(model,ax=ax)\n",
        "plt.show()"
      ],
      "metadata": {
        "colab": {
          "base_uri": "https://localhost:8080/",
          "height": 870
        },
        "id": "AI5ssFMX_eB8",
        "outputId": "f5bc51bd-2756-4900-a4f0-3a93360055f1"
      },
      "execution_count": null,
      "outputs": [
        {
          "output_type": "display_data",
          "data": {
            "text/plain": [
              "<Figure size 1200x1000 with 1 Axes>"
            ],
            "image/png": "[encoded data removed]"
          },
          "metadata": {}
        }
      ]
    },
    {
      "cell_type": "markdown",
      "source": [
        "Se utilizan los datos de prueba (X_test) para hacer predicciones utilizando el modelo que se entrenó previamente (model).\n",
        "Se genera una matriz de confusión usando las etiquetas verdaderas (y_test) y las etiquetas predichas (y_pred). La matriz de confusión muestra cuántas predicciones fueron correctas y cuántas fueron incorrectas para cada clase.\n",
        "Luego, se visualiza esta matriz de confusión usando Seaborn. El resultado será un mapa de calor que indica la cantidad de predicciones para cada combinación de clases verdaderas y predichas. Los números en el mapa representan el conteo de esas combinaciones particulares.\n",
        "Este gráfico es útil para entender el desempeño del modelo en las diferentes clases. Las diagonal principal representa las predicciones correctas, mientras que los valores fuera de esta diagonal representan errores del modelo."
      ],
      "metadata": {
        "id": "_qvDgfqGLMGC"
      }
    },
    {
      "cell_type": "code",
      "source": [
        "# Predecir las etiquetas de las clases para X_test\n",
        "y_pred = model.predict(X_test)\n",
        "\n",
        "# Generar la matriz de confusión\n",
        "cm = confusion_matrix(y_test, y_pred)\n",
        "\n",
        "# Visualizar la matriz de confusión\n",
        "plt.subplots(figsize=(12, 10))\n",
        "sns.heatmap(cm, annot=True, fmt='d', cmap='Blues')\n",
        "plt.ylabel('Verdadero')\n",
        "plt.xlabel('Predicho')\n",
        "plt.show()"
      ],
      "metadata": {
        "colab": {
          "base_uri": "https://localhost:8080/",
          "height": 850
        },
        "id": "-KqyIedJ_d_E",
        "outputId": "94ca07ef-a123-46de-e1ad-4cad34fda8d3"
      },
      "execution_count": null,
      "outputs": [
        {
          "output_type": "display_data",
          "data": {
            "text/plain": [
              "<Figure size 1200x1000 with 2 Axes>"
            ],
            "image/png": "[encoded data removed]"
          },
          "metadata": {}
        }
      ]
    },
    {
      "cell_type": "markdown",
      "source": [
        "Se obtendra el informe de clasificación para el modelo."
      ],
      "metadata": {
        "id": "a0jOW3I8L57C"
      }
    },
    {
      "cell_type": "code",
      "source": [
        "print(metrics.classification_report(y_test,model.predict(X_test)))"
      ],
      "metadata": {
        "colab": {
          "base_uri": "https://localhost:8080/"
        },
        "id": "53DpJdvo_d8C",
        "outputId": "19e37d22-d53d-4ea3-d2f3-666e7ebdf815"
      },
      "execution_count": null,
      "outputs": [
        {
          "output_type": "stream",
          "name": "stdout",
          "text": [
            "              precision    recall  f1-score   support\n",
            "\n",
            "           0       0.38      0.21      0.27        67\n",
            "           1       0.96      0.93      0.95      1415\n",
            "           2       0.93      0.94      0.93      2761\n",
            "           3       0.99      0.97      0.98      1583\n",
            "           4       0.78      0.52      0.62        96\n",
            "           5       1.00      1.00      1.00      1124\n",
            "           6       0.94      0.98      0.96      9550\n",
            "           7       0.91      0.92      0.92       439\n",
            "           8       0.96      0.88      0.92       347\n",
            "           9       0.95      0.81      0.88       851\n",
            "          10       0.98      0.98      0.98      1685\n",
            "          11       0.90      0.95      0.93      2476\n",
            "          12       0.36      0.10      0.16       381\n",
            "          13       1.00      0.96      0.98        75\n",
            "          14       1.00      1.00      1.00        67\n",
            "          15       1.00      1.00      1.00        61\n",
            "\n",
            "    accuracy                           0.94     22978\n",
            "   macro avg       0.88      0.82      0.84     22978\n",
            "weighted avg       0.93      0.94      0.93     22978\n",
            "\n"
          ]
        }
      ]
    },
    {
      "cell_type": "markdown",
      "source": [
        "\n",
        "Se ha escalado los datos utilizando el método MinMaxScaler. Ahora, X_train y X_test contienen datos escalados entre 0 y 1. Puede proceder con el entrenamiento de modelos o cualquier otro análisis que desee realizar con estos datos escalados."
      ],
      "metadata": {
        "id": "Q4TIbfBxMIXh"
      }
    },
    {
      "cell_type": "code",
      "source": [
        "scaler = MinMaxScaler()\n",
        "X_train = scaler.fit_transform(X_train)\n",
        "X_test = scaler.transform(X_test)\n"
      ],
      "metadata": {
        "id": "_l8ytau-_d5V"
      },
      "execution_count": null,
      "outputs": []
    },
    {
      "cell_type": "markdown",
      "source": [
        "Se han dividido nuevamente los datos de entrenamiento en conjuntos de entrenamiento y validación usando un tamaño de prueba del 30%.\n",
        "\n",
        "Ahora, X_train y y_train contienen el 70% de los datos originales de entrenamiento, mientras que X_val y y_val contienen el 30% restante para la validación.\n",
        "\n",
        "Este proceso es útil si se desea tener un conjunto de validación separado para ajustar hiperparámetros o evaluar el rendimiento del modelo antes de probarlo en el conjunto de datos de prueba original."
      ],
      "metadata": {
        "id": "bPiUDWBCMJQb"
      }
    },
    {
      "cell_type": "code",
      "source": [
        "state = 12\n",
        "test_size = 0.30\n",
        "\n",
        "X_train, X_val, y_train, y_val = train_test_split(X_train, y_train,\n",
        "    test_size=test_size, random_state=state)"
      ],
      "metadata": {
        "id": "8koElphy_d4m"
      },
      "execution_count": null,
      "outputs": []
    },
    {
      "cell_type": "markdown",
      "source": [
        "Se está entrenando un GradientBoostingClassifier para diferentes tasas de aprendizaje. En este caso, solo se ha seleccionado una tasa de aprendizaje (0.05), pero la lista lr_list puede ser expandida para incluir múltiples tasas de aprendizaje si se desea.\n",
        "\n",
        "Una vez que se ajusta el clasificador con la tasa de aprendizaje seleccionada, se imprime la precisión de entrenamiento y validación para esa tasa de aprendizaje.\n",
        "\n",
        "Si se ejecuta el código, se obtendrán los valores de precisión para el entrenamiento y la validación para la tasa de aprendizaje de 0.05. Estos valores  darán una idea del rendimiento del modelo para esa tasa de aprendizaje en particular."
      ],
      "metadata": {
        "id": "Xz69y6KxMJkz"
      }
    },
    {
      "cell_type": "markdown",
      "source": [
        "#PRUEBA 1"
      ],
      "metadata": {
        "id": "vzRjgmKy1m8G"
      }
    },
    {
      "cell_type": "code",
      "source": [
        "lr_list = [0.05] #[0.075, 0.1, 0.25, 0.5, 0.75, 1]\n",
        "\n",
        "for learning_rate in lr_list:\n",
        "    gb_clf = GradientBoostingClassifier(n_estimators=20, learning_rate=learning_rate, max_features=2, max_depth=20, random_state=0)\n",
        "    gb_clf.fit(X_train, y_train)\n",
        "\n",
        "    print(\"Learning rate: \", learning_rate)\n",
        "    print(\"Accuracy score (training): {0:.3f}\".format(gb_clf.score(X_train, y_train)))\n",
        "    print(\"Accuracy score (validation): {0:.3f}\".format(gb_clf.score(X_val, y_val)))"
      ],
      "metadata": {
        "colab": {
          "base_uri": "https://localhost:8080/"
        },
        "id": "XYtm1VUA_d1Z",
        "outputId": "119b2e52-3c2b-431b-de7c-bd2858e32a89"
      },
      "execution_count": null,
      "outputs": [
        {
          "output_type": "stream",
          "name": "stdout",
          "text": [
            "Learning rate:  0.05\n",
            "Accuracy score (training): 0.952\n",
            "Accuracy score (validation): 0.932\n"
          ]
        }
      ]
    },
    {
      "cell_type": "markdown",
      "source": [
        "Se definen algunos nombres para modelos y configuraciones, y también define un conjunto de parámetros para un modelo (probablemente LightGBM, dado el valor de learning_rate).\n",
        "\n",
        "Crea instancias de los modelos que deseas entrenar.\n",
        "Utiliza la validación cruzada (cross_val_score) para evaluar cada modelo utilizando la misma partición de datos."
      ],
      "metadata": {
        "id": "dR6-9uPYMlRZ"
      }
    },
    {
      "cell_type": "markdown",
      "source": [
        "#PRUEBA 2"
      ],
      "metadata": {
        "id": "XnMHrWPG1sL4"
      }
    },
    {
      "cell_type": "code",
      "source": [
        "myModelGBC = 'gbc'\n",
        "myModelXGB ='xgboost'\n",
        "myModelLGBM ='lightgbm'\n",
        "myModelDT ='dt'\n",
        "myModelRF ='rf'\n",
        "myFold = 5\n",
        "\n",
        "params = {\n",
        "    'learning_rate': 0.09,\n",
        "    'random_state': 42,\n",
        "}"
      ],
      "metadata": {
        "id": "CRfTihPgIKX2"
      },
      "execution_count": null,
      "outputs": []
    },
    {
      "cell_type": "markdown",
      "source": [
        "El método create_model se utiliza para entrenar modelos de manera simple y directa."
      ],
      "metadata": {
        "id": "lV8B_rIUMwQ3"
      }
    },
    {
      "cell_type": "code",
      "source": [
        "model = create_model(myModelLGBM, fold=myFold, **params)"
      ],
      "metadata": {
        "colab": {
          "base_uri": "https://localhost:8080/"
        },
        "id": "bm_uTx1TFCnr",
        "outputId": "cdb33a9e-6f9d-4167-d568-f92ec94b4a06"
      },
      "execution_count": null,
      "outputs": [
        {
          "output_type": "stream",
          "name": "stderr",
          "text": [
            "\n",
            "Processing:   0%|          | 0/4 [00:00<?, ?it/s]\u001b[A\n",
            "Processing:  75%|███████▌  | 3/4 [00:07<00:02,  2.40s/it]\u001b[A\n",
            "Processing: 100%|██████████| 4/4 [00:07<00:00,  1.72s/it]\u001b[A\n",
            "                                                         \u001b[A"
          ]
        },
        {
          "output_type": "stream",
          "name": "stdout",
          "text": [
            "      Accuracy     AUC  Recall   Prec.      F1   Kappa     MCC\n",
            "Fold                                                          \n",
            "0       0.9170  0.9908  0.9170  0.9103  0.9119  0.8928  0.8936\n",
            "1       0.9190  0.9899  0.9190  0.9127  0.9148  0.8958  0.8962\n",
            "2       0.9190  0.9920  0.9190  0.9101  0.9132  0.8957  0.8961\n",
            "3       0.9289  0.9946  0.9289  0.9133  0.9200  0.9082  0.9088\n",
            "4       0.9229  0.9904  0.9229  0.9179  0.9196  0.9016  0.9018\n",
            "Mean    0.9213  0.9916  0.9213  0.9128  0.9159  0.8988  0.8993\n",
            "Std     0.0042  0.0017  0.0042  0.0028  0.0033  0.0055  0.0054\n"
          ]
        }
      ]
    },
    {
      "cell_type": "markdown",
      "source": [
        "Se han definido un conjunto de parámetros para el modelo.\n",
        "\n",
        "En la definición de parámetros:\n",
        "\n",
        "learning_rate: Determina la tasa de aprendizaje. Un valor más pequeño hará que el modelo aprenda más lentamente, lo que podría mejorar su precisión, pero también podría conducir a un sobreajuste si se usa junto con un número muy alto de iteraciones (n_estimators). Un valor más alto hará que el modelo aprenda más rápido, pero podría no captar ciertas características.\n",
        "\n",
        "random_state: Es una semilla para el generador de números aleatorios. Es útil para reproducir resultados exactos cada vez que se ejecuta el código.\n",
        "\n",
        "objective: Define la función objetivo. En este caso, se ha elegido 'multiclass', indicando una clasificación en más de dos clases.\n",
        "\n",
        "Tras definir estos parámetros, se puede entrenar el modelo utilizando la biblioteca adecuada, ya sea LightGBM directamente o una biblioteca como pycaret para simplificar el proceso."
      ],
      "metadata": {
        "id": "1NmBXOiEM5O0"
      }
    },
    {
      "cell_type": "markdown",
      "source": [
        "#PRUEBA 3"
      ],
      "metadata": {
        "id": "_Eex_Kep1rNk"
      }
    },
    {
      "cell_type": "code",
      "source": [
        "params = {\n",
        "    'learning_rate': 0.05,\n",
        "    'random_state': 2,\n",
        "    'objective' : 'multiclass',\n",
        "}"
      ],
      "metadata": {
        "id": "Rfxp6r2Zcj0f"
      },
      "execution_count": null,
      "outputs": []
    },
    {
      "cell_type": "code",
      "source": [
        "model = create_model(myModelLGBM, fold=myFold, **params)"
      ],
      "metadata": {
        "colab": {
          "base_uri": "https://localhost:8080/"
        },
        "id": "UALMwwSEc3mD",
        "outputId": "8dff291c-0543-47bd-9746-fefc9285f656"
      },
      "execution_count": null,
      "outputs": [
        {
          "output_type": "stream",
          "name": "stderr",
          "text": []
        },
        {
          "output_type": "stream",
          "name": "stdout",
          "text": [
            "      Accuracy     AUC  Recall   Prec.      F1   Kappa     MCC\n",
            "Fold                                                          \n",
            "0       0.9150  0.9916  0.9150  0.9090  0.9096  0.8899  0.8911\n",
            "1       0.9190  0.9910  0.9190  0.9105  0.9141  0.8957  0.8961\n",
            "2       0.9249  0.9927  0.9249  0.9133  0.9176  0.9033  0.9037\n",
            "3       0.9308  0.9950  0.9308  0.9153  0.9219  0.9107  0.9113\n",
            "4       0.9150  0.9916  0.9150  0.9097  0.9115  0.8911  0.8914\n",
            "Mean    0.9209  0.9924  0.9209  0.9115  0.9150  0.8981  0.8987\n",
            "Std     0.0061  0.0014  0.0061  0.0024  0.0044  0.0079  0.0078\n"
          ]
        }
      ]
    },
    {
      "cell_type": "markdown",
      "source": [
        "#PRUEBA 4"
      ],
      "metadata": {
        "id": "-IzrUjOI1uOS"
      }
    },
    {
      "cell_type": "code",
      "source": [
        "model = create_model(myModelXGB, fold=myFold,**params)"
      ],
      "metadata": {
        "colab": {
          "base_uri": "https://localhost:8080/"
        },
        "id": "5prnMmbhJmzQ",
        "outputId": "ac3dd1fa-c641-4d88-f0ab-120ff344681d"
      },
      "execution_count": null,
      "outputs": [
        {
          "output_type": "stream",
          "name": "stderr",
          "text": []
        },
        {
          "output_type": "stream",
          "name": "stdout",
          "text": [
            "      Accuracy     AUC  Recall   Prec.      F1   Kappa     MCC\n",
            "Fold                                                          \n",
            "0       0.9209  0.9917  0.9209  0.9058  0.9109  0.8975  0.8988\n",
            "1       0.9209  0.9906  0.9209  0.9142  0.9162  0.8983  0.8987\n",
            "2       0.9328  0.9944  0.9328  0.9242  0.9276  0.9138  0.9141\n",
            "3       0.9328  0.9945  0.9328  0.9162  0.9231  0.9131  0.9140\n",
            "4       0.9368  0.9926  0.9368  0.9333  0.9329  0.9189  0.9194\n",
            "Mean    0.9289  0.9928  0.9289  0.9187  0.9221  0.9083  0.9090\n",
            "Std     0.0066  0.0015  0.0066  0.0093  0.0078  0.0087  0.0086\n"
          ]
        }
      ]
    },
    {
      "cell_type": "markdown",
      "source": [
        "#PRUEBA 5"
      ],
      "metadata": {
        "id": "1hocbUL-1vzc"
      }
    },
    {
      "cell_type": "code",
      "source": [
        "model = create_model(myModelGBC, fold=myFold,**params)"
      ],
      "metadata": {
        "colab": {
          "base_uri": "https://localhost:8080/"
        },
        "id": "fY-LrPaFJmti",
        "outputId": "d7449f9b-6119-40c2-a33c-64ab76f534a9"
      },
      "execution_count": null,
      "outputs": [
        {
          "output_type": "stream",
          "name": "stderr",
          "text": []
        },
        {
          "output_type": "stream",
          "name": "stdout",
          "text": [
            "      Accuracy     AUC  Recall   Prec.      F1   Kappa     MCC\n",
            "Fold                                                          \n",
            "0       0.9209  0.9843  0.9209  0.9152  0.9146  0.8978  0.8989\n",
            "1       0.9170  0.9841  0.9170  0.9125  0.9138  0.8934  0.8937\n",
            "2       0.9308  0.9914  0.9308  0.9278  0.9282  0.9112  0.9116\n",
            "3       0.9407  0.9930  0.9407  0.9246  0.9320  0.9236  0.9241\n",
            "4       0.9269  0.9902  0.9269  0.9206  0.9226  0.9062  0.9066\n",
            "Mean    0.9273  0.9886  0.9273  0.9201  0.9222  0.9064  0.9070\n",
            "Std     0.0082  0.0037  0.0082  0.0057  0.0072  0.0106  0.0105\n"
          ]
        }
      ]
    },
    {
      "cell_type": "markdown",
      "source": [
        "#PRUEBA 6"
      ],
      "metadata": {
        "id": "sqCiM8VL1wjY"
      }
    },
    {
      "cell_type": "code",
      "source": [
        "model = create_model(myModelDT, fold=myFold)"
      ],
      "metadata": {
        "colab": {
          "base_uri": "https://localhost:8080/"
        },
        "id": "ior4tzwBJqYT",
        "outputId": "b969c0a8-7835-49f8-a7bc-05088a075d19"
      },
      "execution_count": null,
      "outputs": [
        {
          "output_type": "stream",
          "name": "stderr",
          "text": [
            "\n",
            "Processing:   0%|          | 0/4 [00:00<?, ?it/s]\u001b[A\n",
            "Processing:  75%|███████▌  | 3/4 [00:11<00:03,  3.72s/it]\u001b[A\n",
            "Processing: 100%|██████████| 4/4 [00:11<00:00,  2.57s/it]\u001b[A\n",
            "                                                         \u001b[A"
          ]
        },
        {
          "output_type": "stream",
          "name": "stdout",
          "text": [
            "      Accuracy     AUC  Recall   Prec.      F1   Kappa     MCC\n",
            "Fold                                                          \n",
            "0       0.8972  0.9359  0.8972  0.9059  0.8989  0.8681  0.8689\n",
            "1       0.8953  0.9370  0.8953  0.9064  0.8994  0.8673  0.8677\n",
            "2       0.9130  0.9552  0.9130  0.9264  0.9184  0.8900  0.8904\n",
            "3       0.9170  0.9497  0.9170  0.9189  0.9167  0.8941  0.8943\n",
            "4       0.9111  0.9454  0.9111  0.9123  0.9109  0.8872  0.8874\n",
            "Mean    0.9067  0.9446  0.9067  0.9140  0.9089  0.8814  0.8817\n",
            "Std     0.0088  0.0074  0.0088  0.0078  0.0083  0.0113  0.0112\n"
          ]
        }
      ]
    },
    {
      "cell_type": "markdown",
      "source": [
        "#PRUEBA 7"
      ],
      "metadata": {
        "id": "8o5q-t161xd5"
      }
    },
    {
      "cell_type": "code",
      "source": [
        "model = create_model(myModelRF, fold=myFold)"
      ],
      "metadata": {
        "colab": {
          "base_uri": "https://localhost:8080/"
        },
        "id": "ho0GR4iYJqRn",
        "outputId": "a262b7a1-362a-4eb2-f070-410567062f88"
      },
      "execution_count": null,
      "outputs": [
        {
          "output_type": "stream",
          "name": "stderr",
          "text": [
            "\n",
            "Processing:   0%|          | 0/4 [00:00<?, ?it/s]\u001b[A\n",
            "Processing:  75%|███████▌  | 3/4 [00:02<00:00,  1.26it/s]\u001b[A\n",
            "Processing: 100%|██████████| 4/4 [00:02<00:00,  1.38it/s]\u001b[A\n",
            "                                                         \u001b[A"
          ]
        },
        {
          "output_type": "stream",
          "name": "stdout",
          "text": [
            "      Accuracy     AUC  Recall   Prec.      F1   Kappa     MCC\n",
            "Fold                                                          \n",
            "0       0.8834  0.9681  0.8834  0.8808  0.8783  0.8488  0.8501\n",
            "1       0.8794  0.9755  0.8794  0.8733  0.8760  0.8459  0.8460\n",
            "2       0.9012  0.9825  0.9012  0.9012  0.8994  0.8737  0.8740\n",
            "3       0.8913  0.9867  0.8913  0.8804  0.8803  0.8597  0.8605\n",
            "4       0.8715  0.9782  0.8715  0.8686  0.8690  0.8362  0.8364\n",
            "Mean    0.8854  0.9782  0.8854  0.8809  0.8806  0.8529  0.8534\n",
            "Std     0.0102  0.0063  0.0102  0.0112  0.0101  0.0128  0.0129\n"
          ]
        }
      ]
    },
    {
      "cell_type": "markdown",
      "source": [
        "#PRUEBA 8"
      ],
      "metadata": {
        "id": "u-c5trWT1y2P"
      }
    },
    {
      "cell_type": "code",
      "source": [
        "model = create_model(myModelDT, fold=myFold)"
      ],
      "metadata": {
        "colab": {
          "base_uri": "https://localhost:8080/"
        },
        "id": "FDa0bHIMJqPL",
        "outputId": "043289bf-74ad-4d2c-bc22-20f813fc7378"
      },
      "execution_count": null,
      "outputs": [
        {
          "output_type": "stream",
          "name": "stderr",
          "text": []
        },
        {
          "output_type": "stream",
          "name": "stdout",
          "text": [
            "      Accuracy     AUC  Recall   Prec.      F1   Kappa     MCC\n",
            "Fold                                                          \n",
            "0       0.8972  0.9359  0.8972  0.9059  0.8989  0.8681  0.8689\n",
            "1       0.8953  0.9370  0.8953  0.9064  0.8994  0.8673  0.8677\n",
            "2       0.9130  0.9552  0.9130  0.9264  0.9184  0.8900  0.8904\n",
            "3       0.9170  0.9497  0.9170  0.9189  0.9167  0.8941  0.8943\n",
            "4       0.9111  0.9454  0.9111  0.9123  0.9109  0.8872  0.8874\n",
            "Mean    0.9067  0.9446  0.9067  0.9140  0.9089  0.8814  0.8817\n",
            "Std     0.0088  0.0074  0.0088  0.0078  0.0083  0.0113  0.0112\n"
          ]
        }
      ]
    }
  ]
}